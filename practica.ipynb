{
 "cells": [
  {
   "attachments": {},
   "cell_type": "markdown",
   "metadata": {},
   "source": [
    "1. Crear una lista que contenga nombres de provincias Argentinas, que\n",
    "contenga más de 5 elementos e imprimir por pantalla"
   ]
  },
  {
   "cell_type": "code",
   "execution_count": null,
   "metadata": {},
   "outputs": [],
   "source": [
    "provincias=[\"salta\",\"jujuy\",\"cordoba\",\"neuquen\",\"corrientes\"]\n",
    "print(provincias)"
   ]
  },
  {
   "attachments": {},
   "cell_type": "markdown",
   "metadata": {},
   "source": [
    "2. Imprimir por pantalla el tercer elemento de la lista"
   ]
  },
  {
   "cell_type": "code",
   "execution_count": null,
   "metadata": {},
   "outputs": [],
   "source": [
    "print(provincias[2])"
   ]
  },
  {
   "attachments": {},
   "cell_type": "markdown",
   "metadata": {},
   "source": [
    "3. Imprimir por pantalla del segundo al cuarto elemento"
   ]
  },
  {
   "cell_type": "code",
   "execution_count": null,
   "metadata": {},
   "outputs": [],
   "source": [
    "print(provincias[1:4])"
   ]
  },
  {
   "attachments": {},
   "cell_type": "markdown",
   "metadata": {},
   "source": [
    "4. Mostrar el tipo de dato de la lista"
   ]
  },
  {
   "attachments": {},
   "cell_type": "markdown",
   "metadata": {},
   "source": [
    "5. Mostrar los primeros 4 elementos de la lista"
   ]
  },
  {
   "cell_type": "code",
   "execution_count": null,
   "metadata": {},
   "outputs": [],
   "source": [
    "print(provincias[:4])"
   ]
  },
  {
   "attachments": {},
   "cell_type": "markdown",
   "metadata": {},
   "source": [
    "6. Agregar una provincia más a la lista que ya exista y otra que no"
   ]
  },
  {
   "cell_type": "code",
   "execution_count": null,
   "metadata": {},
   "outputs": [],
   "source": [
    "print(provincias)\n"
   ]
  },
  {
   "attachments": {},
   "cell_type": "markdown",
   "metadata": {},
   "source": [
    "7. Agregar una provincia, pero en la cuarta posición"
   ]
  },
  {
   "cell_type": "code",
   "execution_count": null,
   "metadata": {},
   "outputs": [],
   "source": [
    "provincias.insert(3,\"chaco\")\n",
    "print(provincias)"
   ]
  },
  {
   "attachments": {},
   "cell_type": "markdown",
   "metadata": {},
   "source": [
    "8. Extender otra lista a la ya creada"
   ]
  },
  {
   "cell_type": "code",
   "execution_count": null,
   "metadata": {},
   "outputs": [],
   "source": [
    "provincias2=[\"Formosa\",\"misiones\"]\n",
    "provincias.extend(provincias2)\n",
    "print(provincias)"
   ]
  },
  {
   "attachments": {},
   "cell_type": "markdown",
   "metadata": {},
   "source": [
    "9. Eliminar un elemento de la lista."
   ]
  },
  {
   "cell_type": "code",
   "execution_count": null,
   "metadata": {},
   "outputs": [],
   "source": [
    "del(provincias[5])\n",
    "print(provincias)"
   ]
  },
  {
   "attachments": {},
   "cell_type": "markdown",
   "metadata": {},
   "source": [
    "10.Extraer el último elemento de la lista, guardarlo en una variable e\n",
    "imprimirlo."
   ]
  },
  {
   "cell_type": "code",
   "execution_count": null,
   "metadata": {},
   "outputs": [],
   "source": [
    "ultimo = provincias[-1]\n",
    "print(ultimo)\n"
   ]
  },
  {
   "attachments": {},
   "cell_type": "markdown",
   "metadata": {},
   "source": [
    "1. Crear una tupla que\n",
    "contenga los números enteros del 1 al 20"
   ]
  },
  {
   "cell_type": "code",
   "execution_count": 14,
   "metadata": {},
   "outputs": [],
   "source": [
    "numeros =(1,2,3,4,5,6,7,8,9,10,11,12,13,14,15,16,17,18,19,20)"
   ]
  },
  {
   "attachments": {},
   "cell_type": "markdown",
   "metadata": {},
   "source": [
    "2. Imprimir desde el índice 10 al 15 de la tupla"
   ]
  },
  {
   "cell_type": "code",
   "execution_count": null,
   "metadata": {},
   "outputs": [],
   "source": [
    "print(numeros[9:15])"
   ]
  },
  {
   "attachments": {},
   "cell_type": "markdown",
   "metadata": {},
   "source": [
    "3. Mostrar la cantidad de veces que se encuentra un elemento\n",
    "específico dentro de la tupla y de la lista (utilizar count)"
   ]
  },
  {
   "cell_type": "code",
   "execution_count": null,
   "metadata": {},
   "outputs": [],
   "source": [
    "numeros.count(10)"
   ]
  },
  {
   "attachments": {},
   "cell_type": "markdown",
   "metadata": {},
   "source": [
    "4. Convertir la tupla en una lista"
   ]
  },
  {
   "cell_type": "code",
   "execution_count": null,
   "metadata": {},
   "outputs": [],
   "source": [
    "numeros=list(numeros)\n",
    "print(numeros)"
   ]
  },
  {
   "attachments": {},
   "cell_type": "markdown",
   "metadata": {},
   "source": [
    "5. Desempaquetar solo los primeros 3 elementos de la tupla en 3\n",
    "variables"
   ]
  },
  {
   "cell_type": "code",
   "execution_count": null,
   "metadata": {},
   "outputs": [],
   "source": [
    "numero1,numero2,numero3=numeros[:3]\n",
    "print(numero1)\n",
    "print(numero2)\n",
    "print(numero3)\n"
   ]
  },
  {
   "attachments": {},
   "cell_type": "markdown",
   "metadata": {},
   "source": [
    "1. Crear un diccionario que contenga nombre, edad y carrera de un\n",
    "alumno y mostrar el diccionario completo."
   ]
  },
  {
   "cell_type": "code",
   "execution_count": 19,
   "metadata": {},
   "outputs": [],
   "source": [
    "diccionario ={\"nombre\":\"damian\",\"edad\":35,\"carrera\":\"programacion\"}\n"
   ]
  },
  {
   "attachments": {},
   "cell_type": "markdown",
   "metadata": {},
   "source": [
    "2. Utilizar el método get para mostrar el valor de la clave nombre."
   ]
  },
  {
   "cell_type": "code",
   "execution_count": null,
   "metadata": {},
   "outputs": [],
   "source": [
    "diccionario.get(\"nombre\")"
   ]
  },
  {
   "attachments": {},
   "cell_type": "markdown",
   "metadata": {},
   "source": [
    "3. Cambiar la edad del alumno y mostrar el diccionario completo."
   ]
  },
  {
   "cell_type": "code",
   "execution_count": null,
   "metadata": {},
   "outputs": [],
   "source": [
    "diccionario[\"edad\"]= 36\n",
    "print(diccionario)"
   ]
  },
  {
   "attachments": {},
   "cell_type": "markdown",
   "metadata": {},
   "source": [
    "4. Agrear un par clave valor que contenga el sexo del alumno. Mostrar\n",
    "el diccionario completo."
   ]
  },
  {
   "cell_type": "code",
   "execution_count": null,
   "metadata": {},
   "outputs": [],
   "source": [
    "diccionario1={\"sexo\":\"masculino\"}\n",
    "diccionario.update(diccionario1)\n",
    "print(diccionario)"
   ]
  },
  {
   "attachments": {},
   "cell_type": "markdown",
   "metadata": {},
   "source": [
    "5. Usar el método pop() para remover la edad del alumno. Mostrar el\n",
    "diccionario completo."
   ]
  },
  {
   "cell_type": "code",
   "execution_count": null,
   "metadata": {},
   "outputs": [],
   "source": [
    "diccionario.pop(\"edad\")\n",
    "print(diccionario)\n"
   ]
  },
  {
   "attachments": {},
   "cell_type": "markdown",
   "metadata": {},
   "source": [
    "6. Crear un diccionario que contenga las notas de un alumno en tres\n",
    "materias. Las materias son programación II, ciencia de datos,\n",
    "programación I"
   ]
  },
  {
   "cell_type": "code",
   "execution_count": null,
   "metadata": {},
   "outputs": [],
   "source": [
    "notas={\"programacion II\":9,\"Ciencia de datos\":8,\"programacion I\":10}\n",
    "print(notas)"
   ]
  },
  {
   "attachments": {},
   "cell_type": "markdown",
   "metadata": {},
   "source": [
    "7. Mostrar todos los ítems del diccionario de notas."
   ]
  },
  {
   "cell_type": "code",
   "execution_count": null,
   "metadata": {},
   "outputs": [],
   "source": [
    "notas.items()"
   ]
  },
  {
   "attachments": {},
   "cell_type": "markdown",
   "metadata": {},
   "source": [
    "8. Crear un nuevo diccionario que sea una copia del diccionario de\n",
    "notas del alumno. Mostrar los datos del nuevo diccionario."
   ]
  },
  {
   "cell_type": "code",
   "execution_count": null,
   "metadata": {},
   "outputs": [],
   "source": [
    "notas2=notas.copy()\n",
    "print(notas2)"
   ]
  },
  {
   "attachments": {},
   "cell_type": "markdown",
   "metadata": {},
   "source": [
    "9. Mostrar los valores del diccionario de notas."
   ]
  },
  {
   "cell_type": "code",
   "execution_count": null,
   "metadata": {},
   "outputs": [],
   "source": [
    "notas.values()"
   ]
  },
  {
   "attachments": {},
   "cell_type": "markdown",
   "metadata": {},
   "source": [
    "10.Mostrar la longitud del diccionario de notas."
   ]
  },
  {
   "cell_type": "code",
   "execution_count": null,
   "metadata": {},
   "outputs": [],
   "source": [
    "len(notas)"
   ]
  },
  {
   "attachments": {},
   "cell_type": "markdown",
   "metadata": {},
   "source": [
    "1. Ingresar dos números por teclado a y b. Si a es mayor que b,\n",
    "imprimir ‘Hola Politécnico Malvinas’"
   ]
  },
  {
   "cell_type": "code",
   "execution_count": null,
   "metadata": {},
   "outputs": [],
   "source": [
    "a= int(input(\"numero 1\"))\n",
    "b= int(input(\"numero 2\"))\n",
    "\n",
    "if a > b :\n",
    "    print(\"Hola politecnico\")"
   ]
  },
  {
   "attachments": {},
   "cell_type": "markdown",
   "metadata": {},
   "source": [
    "2. Ingresar dos números por teclado a y b. Si a no es igual a b, imprimir\n",
    "‘Hola Politécnico Malvinas’"
   ]
  },
  {
   "cell_type": "code",
   "execution_count": null,
   "metadata": {},
   "outputs": [],
   "source": [
    "if a != b :\n",
    "    print(\"Hola politecnico\")"
   ]
  },
  {
   "attachments": {},
   "cell_type": "markdown",
   "metadata": {},
   "source": [
    "3. Ingresar dos números por teclado a y b. Si a es igual a b, imprimir\n",
    "‘son iguales’ sino imprimir ‘son distintos’"
   ]
  },
  {
   "cell_type": "code",
   "execution_count": null,
   "metadata": {},
   "outputs": [],
   "source": [
    "a= int(input(\"numero 1\"))\n",
    "b= int(input(\"numero 2\"))\n",
    "\n",
    "if a == b :\n",
    "    print(\"son iguales\")\n",
    "else:\n",
    "    print(\"son distintos\")"
   ]
  },
  {
   "attachments": {},
   "cell_type": "markdown",
   "metadata": {},
   "source": [
    "4. Ingresar dos números por teclado a y b. Si a es igual a b, imprimir 1\n",
    "si a es mayor que b, imprimir 2 sino imprimir 3."
   ]
  },
  {
   "cell_type": "code",
   "execution_count": null,
   "metadata": {},
   "outputs": [],
   "source": [
    "a= int(input(\"numero 1\"))\n",
    "b= int(input(\"numero 2\"))\n",
    "\n",
    "if a == b:\n",
    "    print(\"1\")\n",
    "elif a > b :\n",
    "    print(\"2\")\n",
    "else:\n",
    "    print(\"3\")"
   ]
  },
  {
   "attachments": {},
   "cell_type": "markdown",
   "metadata": {},
   "source": [
    "5. Ingrese cuatro números por teclado a, b, c y d. Si a es igual b y c es\n",
    "igual a d, imprimir ‘Hola Politécnico Malvinas’"
   ]
  },
  {
   "cell_type": "code",
   "execution_count": null,
   "metadata": {},
   "outputs": [],
   "source": [
    "a= int(input(\"numero 1\"))\n",
    "b= int(input(\"numero 2\"))\n",
    "c= int(input(\"numero 3\"))\n",
    "d= int(input(\"numero 4\"))\n",
    "\n",
    "if a == b and c == d :\n",
    "    print(\"Hola politecnico\")"
   ]
  },
  {
   "attachments": {},
   "cell_type": "markdown",
   "metadata": {},
   "source": [
    "6. Ingrese cuatro números por teclado a, b, c y d. Si a es igual b ó c es\n",
    "igual a d, imprimir ‘Hola Politécnico Malvinas"
   ]
  },
  {
   "cell_type": "code",
   "execution_count": null,
   "metadata": {},
   "outputs": [],
   "source": [
    "a= int(input(\"numero 1\"))\n",
    "b= int(input(\"numero 2\"))\n",
    "c= int(input(\"numero 3\"))\n",
    "d= int(input(\"numero 4\"))\n",
    "\n",
    "if a==b or c==d :\n",
    "    print(\"hola politecnico\")"
   ]
  },
  {
   "attachments": {},
   "cell_type": "markdown",
   "metadata": {},
   "source": [
    "7. Ingresar la edad de una persona por teclado, mostrar por pantalla si\n",
    "es mayor o menor de edad."
   ]
  },
  {
   "cell_type": "code",
   "execution_count": null,
   "metadata": {},
   "outputs": [],
   "source": [
    "edad = int(input(\"edad\"))\n",
    "\n",
    "if edad > 18 :\n",
    "    print(\"Es mayor\")\n",
    "else:\n",
    "    print(\"es menor\")\n"
   ]
  },
  {
   "attachments": {},
   "cell_type": "markdown",
   "metadata": {},
   "source": [
    "8. Ingresar un número por teclado y mostrar por pantalla si es para o\n",
    "impar"
   ]
  },
  {
   "cell_type": "code",
   "execution_count": null,
   "metadata": {},
   "outputs": [],
   "source": [
    "a= int(input(\"numero 1\"))\n",
    "\n",
    "if a % 2 == 0 :\n",
    "    print(\"Es par\")\n",
    "else:\n",
    "    print(\"es impar\")"
   ]
  },
  {
   "attachments": {},
   "cell_type": "markdown",
   "metadata": {},
   "source": [
    "9. Ingresar por teclado tres\n",
    "números y mostrar por pantalla el mayor de los tres."
   ]
  },
  {
   "cell_type": "code",
   "execution_count": null,
   "metadata": {},
   "outputs": [],
   "source": [
    "a= int(input(\"numero 1\"))\n",
    "b= int(input(\"numero 2\"))\n",
    "c= int(input(\"numero 3\"))\n",
    "\n",
    "if a > b and a > c:\n",
    "    print(\"El numero mayor es a\")\n",
    "elif b > a and b > c:\n",
    "    print(\"El numero mayor es B\")\n",
    "elif c > a and c > b:\n",
    "    print(\"El numero mayor es c\")"
   ]
  },
  {
   "attachments": {},
   "cell_type": "markdown",
   "metadata": {},
   "source": [
    "10.Ingresar por teclado un nombre, si la variable nombre, no es nula\n",
    "mostrar por pantalla ‘Bienvenido ‘+ nombre, sino mostrar\n",
    "‘Bienvenido anónimo’"
   ]
  },
  {
   "cell_type": "code",
   "execution_count": null,
   "metadata": {},
   "outputs": [],
   "source": [
    "nombre=str(input())\n",
    "if nombre :\n",
    "       \n",
    "        print(\"Bienvenido \",nombre)\n",
    "else:\n",
    "        print(\"Bienvendido anonimo\")\n"
   ]
  },
  {
   "attachments": {},
   "cell_type": "markdown",
   "metadata": {},
   "source": [
    "1. Imprimir los números del 1 al 20 utilizando un bucle for"
   ]
  },
  {
   "cell_type": "code",
   "execution_count": null,
   "metadata": {},
   "outputs": [],
   "source": [
    "for i in range(1,21):\n",
    "    print(i)"
   ]
  },
  {
   "attachments": {},
   "cell_type": "markdown",
   "metadata": {},
   "source": [
    "2. Imprimir los números pares del 1 al 20 utilizando un bucle while"
   ]
  },
  {
   "cell_type": "code",
   "execution_count": null,
   "metadata": {},
   "outputs": [],
   "source": [
    "f= 1\n",
    "while f <= 20 :\n",
    "    if f % 2 == 0 :\n",
    "         print(f)\n",
    "\n",
    "    f +=1"
   ]
  },
  {
   "attachments": {},
   "cell_type": "markdown",
   "metadata": {},
   "source": [
    "3. Imprimir los números impares del 1 al 30 utilizando un bucle for"
   ]
  },
  {
   "cell_type": "code",
   "execution_count": null,
   "metadata": {},
   "outputs": [],
   "source": [
    "num = 1\n",
    "for num in range(1,31):\n",
    "    if num % 2 !=0:\n",
    "        print(num)"
   ]
  },
  {
   "attachments": {},
   "cell_type": "markdown",
   "metadata": {},
   "source": [
    "4. Ingresar un número por teclado y mostrar su tabla de multiplicar del\n",
    "1 al 10."
   ]
  },
  {
   "cell_type": "code",
   "execution_count": null,
   "metadata": {},
   "outputs": [],
   "source": [
    "x = int(input(\"ingrese un numero\"))\n",
    "print(\"la tabla de multiplicar del numero\",x)\n",
    "for i in range(0, 11):\n",
    "    print(x, \"x\",i ,\"=\", x*i)"
   ]
  },
  {
   "attachments": {},
   "cell_type": "markdown",
   "metadata": {},
   "source": [
    "5. Imprimir los números del 1 al 100, para los múltiplos de 3, imprimir\n",
    "“múltiplo de 3”, para los múltiplos de 5 imprimir “múltiplo de 5” y\n",
    "para los múltiplos de 3 y de 5 imprimir “múltiplo de 3 y 5”."
   ]
  },
  {
   "cell_type": "code",
   "execution_count": null,
   "metadata": {},
   "outputs": [],
   "source": [
    "for num in range(1,101):\n",
    "    if num % 3 == 0 and num %5 == 0:\n",
    "        print(num,\"Es multiplo de 3 y 5\")\n",
    "    elif num % 3 == 0:\n",
    "        print(num,\"Es multiplo de 3\")\n",
    "    elif num % 5 == 0:\n",
    "        print(num,\"Es multiplo de 5\")\n",
    "    else:\n",
    "        print(num)"
   ]
  },
  {
   "attachments": {},
   "cell_type": "markdown",
   "metadata": {},
   "source": [
    "6. Ingresar un número por teclado e imprimir si es número primo o no."
   ]
  },
  {
   "cell_type": "code",
   "execution_count": null,
   "metadata": {},
   "outputs": [],
   "source": [
    "numero1= int(input())\n",
    "\n",
    "esPrimo=True\n",
    "\n",
    "if numero1 < 2 :\n",
    "    esPrimo = False\n",
    "else:\n",
    "    for i in range(2,numero1):\n",
    "        if numero1 % i == 0 :\n",
    "            esPrimo = False\n",
    "            break\n",
    "if esPrimo:\n",
    "    print(numero1,\"Es primo\")\n",
    "else:\n",
    "    print(numero1,\"no es primo\")"
   ]
  },
  {
   "attachments": {},
   "cell_type": "markdown",
   "metadata": {},
   "source": [
    "7. A partir de una lista vacía, utilizar un ciclo while para cargar allí\n",
    "números negativos del -20 al -1"
   ]
  },
  {
   "cell_type": "code",
   "execution_count": null,
   "metadata": {},
   "outputs": [],
   "source": [
    "lista= []\n",
    "num= -20\n",
    "while num <= -1 :\n",
    "    lista.append(num)\n",
    "    num +=1\n",
    "print(lista)"
   ]
  },
  {
   "attachments": {},
   "cell_type": "markdown",
   "metadata": {},
   "source": [
    "8. A partir de la variable cadena, mostrar en qué posiciones aparece la\n",
    "letra \"n\" cadena = 'Hola Politécnico. Esto es una práctica\n",
    "programación con Python'"
   ]
  },
  {
   "cell_type": "code",
   "execution_count": null,
   "metadata": {},
   "outputs": [],
   "source": [
    "cadena = 'Hola Politécnico. Esto es una práctica programación con Python'\n",
    "letra= \"n\"\n",
    "posiciones=[]\n",
    "\n",
    "for i in range(len(cadena)):\n",
    "    if cadena[i] == letra:\n",
    "        posiciones.append(i)\n",
    "print(\"la letra \",letra ,\"aparece en las siguientes posiciones\",posiciones)"
   ]
  },
  {
   "attachments": {},
   "cell_type": "markdown",
   "metadata": {},
   "source": [
    "9. Convertir en una lista la variable \"cadena\" del punto 10 y luego\n",
    "recorrerla con un iterador"
   ]
  },
  {
   "cell_type": "code",
   "execution_count": null,
   "metadata": {},
   "outputs": [],
   "source": [
    "asd = \"Hola mundo esto es una practica porgramacion con python\"\n",
    "lista=list(asd)\n",
    "\n",
    "for indice,letra in enumerate(lista):\n",
    "    print(indice,letra)"
   ]
  },
  {
   "attachments": {},
   "cell_type": "markdown",
   "metadata": {},
   "source": [
    "10.A partir de la siguiente lista de números, crear una lista nueva sólo si\n",
    "el número es divisible por 5 lista1=[18,25,29,32,35,42,50,60,63,100]"
   ]
  },
  {
   "cell_type": "code",
   "execution_count": null,
   "metadata": {},
   "outputs": [],
   "source": [
    "lista1=[18,25,29,32,35,42,50,60,63,100]\n",
    "lista_divisibles5=[]\n",
    "\n",
    "for numero in lista1:\n",
    "    if numero % 5 ==0:\n",
    "        lista_divisibles5.append(numero)\n",
    "print(lista_divisibles5)"
   ]
  },
  {
   "attachments": {},
   "cell_type": "markdown",
   "metadata": {},
   "source": [
    "11.Imprimir los números primos del 1 al 100"
   ]
  },
  {
   "cell_type": "code",
   "execution_count": null,
   "metadata": {},
   "outputs": [],
   "source": [
    "for num in range(1,101):\n",
    "    if num > 1:\n",
    "        for i in range(2,num):\n",
    "            if (num % i) == 0:\n",
    "                break\n",
    "        else:\n",
    "            print(num)"
   ]
  },
  {
   "attachments": {},
   "cell_type": "markdown",
   "metadata": {},
   "source": [
    "12.Imprimir los números del 10 al 1 utilizando un bucle while."
   ]
  },
  {
   "cell_type": "code",
   "execution_count": null,
   "metadata": {},
   "outputs": [],
   "source": [
    "num2= 10\n",
    "while num2 >= 1 :\n",
    "    print(num2)\n",
    "    num2 -= 1\n"
   ]
  },
  {
   "attachments": {},
   "cell_type": "markdown",
   "metadata": {},
   "source": [
    "13.Imprimir los números del 1 al 30, no mostrando los que son\n",
    "múltiplos de 3"
   ]
  },
  {
   "cell_type": "code",
   "execution_count": null,
   "metadata": {},
   "outputs": [],
   "source": [
    "for i in range(1,31):\n",
    "    if i % 3 != 0:\n",
    "        print(i)"
   ]
  },
  {
   "attachments": {},
   "cell_type": "markdown",
   "metadata": {},
   "source": [
    "14.Ingresar una cadena por\n",
    "teclado y contar la cantidad de letras ‘a’ que aparecen en la misma.\n",
    "Imprimir la cadena y la cantidad de ‘a’ que aparecen."
   ]
  },
  {
   "cell_type": "code",
   "execution_count": null,
   "metadata": {},
   "outputs": [],
   "source": [
    "s =str(input())\n",
    "cantidad_a = 0\n",
    "\n",
    "print(s)\n",
    "\n",
    "for letra in s:\n",
    "    if letra == 'a':\n",
    "        cantidad_a += 1\n",
    "print(\"la cantidad de letras a es \",cantidad_a)"
   ]
  },
  {
   "attachments": {},
   "cell_type": "markdown",
   "metadata": {},
   "source": [
    "15.dada una lista de marca de vehículos\n",
    "marcas =[‘Ford’,’Renault’,’Peugeot’,’Audi’,’Toyota’], recorrer la\n",
    "lista con un bucle for y en caso de que la marca sea ‘Audi’ salir del\n",
    "bucle."
   ]
  },
  {
   "cell_type": "code",
   "execution_count": null,
   "metadata": {},
   "outputs": [],
   "source": [
    "marcas =[\"Ford\",'Renault','Peugeot','Audi','Toyota']\n",
    "for marca in marcas:\n",
    "    if marca == \"Audi\":\n",
    "        break\n",
    "    print(marca)\n",
    "print(\"Fin del bucle\")\n"
   ]
  },
  {
   "attachments": {},
   "cell_type": "markdown",
   "metadata": {},
   "source": [
    "1. Crear una función llamada “usuario” que reciba como parámetro un\n",
    "nombre y devuelva un mensaje “Bienvenido al sistema {nombre}”."
   ]
  },
  {
   "cell_type": "code",
   "execution_count": 29,
   "metadata": {},
   "outputs": [],
   "source": [
    "def usuario(nombre):\n",
    "    print(f\"Bienvenido al sistema {nombre}\")"
   ]
  },
  {
   "attachments": {},
   "cell_type": "markdown",
   "metadata": {},
   "source": [
    "2. llamar a la función “usuario”"
   ]
  },
  {
   "cell_type": "code",
   "execution_count": null,
   "metadata": {},
   "outputs": [],
   "source": [
    "usuario(\"damian\")"
   ]
  },
  {
   "attachments": {},
   "cell_type": "markdown",
   "metadata": {},
   "source": [
    "3. Escribe una función que tome dos números como argumentos y\n",
    "devuelva su suma."
   ]
  },
  {
   "cell_type": "code",
   "execution_count": null,
   "metadata": {},
   "outputs": [],
   "source": [
    "def suma(num1,num2):\n",
    "    return num1 + num2\n",
    "suma(5,2)"
   ]
  },
  {
   "attachments": {},
   "cell_type": "markdown",
   "metadata": {},
   "source": [
    "4. Crea una función que reciba dos números y una operación (suma,\n",
    "resta, multiplicación, división) y devuelva el resultado"
   ]
  },
  {
   "cell_type": "code",
   "execution_count": null,
   "metadata": {},
   "outputs": [],
   "source": [
    "def suma(a,b):\n",
    "    return a+b\n",
    "def resta(a,b):\n",
    "    return a-b\n",
    "def multiplicacion(a,b):\n",
    "    return a*b\n",
    "def division(a,b):\n",
    "    return a/b\n",
    "num1 =int(input(\"ingrese el numero \"))\n",
    "print('''\n",
    "1 = suma\n",
    "2 = resta\n",
    "3 = multiplicacion\n",
    "4 = division''')\n",
    "operacion=int(input(\"ingrese la operacion\"))\n",
    "num2= int(input(\"ingrese el segundo numero\"))\n",
    "\n",
    "if operacion == 1:\n",
    "    print(num1,\"+\",num2,\"=\",suma(num1,num2))\n",
    "elif operacion == 2:\n",
    "    print(num1,\"-\",num2,\"=\",resta(num1,num2))\n",
    "elif operacion == 3:\n",
    "    print(num1,\"*\",num2,\"=\",multiplicacion(num1,num2))\n",
    "else:\n",
    "    print(num1,\"/\",num2,\"=\",division(num1,num2))"
   ]
  },
  {
   "attachments": {},
   "cell_type": "markdown",
   "metadata": {},
   "source": [
    "5. Conversor de moneda: Crea una función que convierta de pesos a\n",
    "dólares, que reciba como parámetro la cantidad de pesos y el valor\n",
    "del dólar y devuelva la cantidad de dólares."
   ]
  },
  {
   "cell_type": "code",
   "execution_count": null,
   "metadata": {},
   "outputs": [],
   "source": [
    "def conversor(a,b):\n",
    "    return a/b\n",
    "pesos=float(input(\"ingrese la cantidad de pesos\"))\n",
    "dolar=500\n",
    "print(f\"Con el valor del dolar a usd{dolar}.La cantidad de dolares que recibe por ${pesos} es de\",conversor(pesos,dolar))\n"
   ]
  },
  {
   "attachments": {},
   "cell_type": "markdown",
   "metadata": {},
   "source": [
    "6. Escribe una función que tome una lista de números como argumento\n",
    "y devuelva la suma de los números positivos y la suma de los\n",
    "números negativos en una tupla."
   ]
  },
  {
   "cell_type": "code",
   "execution_count": null,
   "metadata": {},
   "outputs": [],
   "source": [
    "def suma_positivos_negativos(numeros):\n",
    "    suma_positivos = 0\n",
    "    suma_negativos = 0\n",
    "\n",
    "    for numero in numeros:\n",
    "        if numero > 0:\n",
    "            suma_positivos += numero\n",
    "        elif numero < 0:\n",
    "            suma_negativos += numero\n",
    "\n",
    "    return (suma_positivos, suma_negativos)\n",
    "numeros = [1, -2, 3, -4, 5, -6]\n",
    "resultado = suma_positivos_negativos(numeros)\n",
    "print(resultado)\n"
   ]
  },
  {
   "attachments": {},
   "cell_type": "markdown",
   "metadata": {},
   "source": [
    "7. Crear una función que reciba un número como parámetro y devuelva\n",
    "True si es primo y False si no lo es."
   ]
  },
  {
   "cell_type": "code",
   "execution_count": null,
   "metadata": {},
   "outputs": [],
   "source": [
    "def es_primo(numero):\n",
    "    if numero < 2:\n",
    "        return False\n",
    "\n",
    "    for i in range(2, int(numero**0.5) + 1):\n",
    "        if numero % i == 0:\n",
    "            return False\n",
    "\n",
    "    return True\n",
    "numero = 5 \n",
    "resultado = es_primo(numero)\n",
    "print(resultado)"
   ]
  },
  {
   "attachments": {},
   "cell_type": "markdown",
   "metadata": {},
   "source": [
    "8. Escribe una función que tome una lista de números como argumento\n",
    "y devuelva el número más grande y el número más pequeño en una\n",
    "tupla."
   ]
  },
  {
   "cell_type": "code",
   "execution_count": null,
   "metadata": {},
   "outputs": [],
   "source": [
    "def encontrar_extremos(numeros):\n",
    "    if not numeros:\n",
    "        return None\n",
    "\n",
    "    numero_mas_grande = numeros[0]\n",
    "    numero_mas_pequeno = numeros[0]\n",
    "\n",
    "    for numero in numeros:\n",
    "        if numero > numero_mas_grande:\n",
    "            numero_mas_grande = numero\n",
    "        if numero < numero_mas_pequeno:\n",
    "            numero_mas_pequeno = numero\n",
    "\n",
    "    return (numero_mas_grande, numero_mas_pequeno)\n",
    "\n",
    "numeros = [10, -5, 7, 3, -2, 15]\n",
    "resultado = encontrar_extremos(numeros)\n",
    "print(resultado)"
   ]
  },
  {
   "attachments": {},
   "cell_type": "markdown",
   "metadata": {},
   "source": [
    "1. Crea la clase base \"Persona\" con los siguientes atributos:\n",
    "+ nombre\n",
    "+ edad\n",
    "  Incluir un constructor que inicialice los atributos"
   ]
  },
  {
   "cell_type": "code",
   "execution_count": null,
   "metadata": {},
   "outputs": [],
   "source": [
    "class Persona:\n",
    "    def __init__(self, nombre, edad):\n",
    "        self.nombre = nombre\n",
    "        self.edad = edad"
   ]
  },
  {
   "attachments": {},
   "cell_type": "markdown",
   "metadata": {},
   "source": [
    "2. Crea la clase base \"Vehículo\" con los siguientes atributos:\n",
    "+ marca\n",
    "+ modelo\n",
    "  \n",
    "   Incluir un constructor que inicialice los atributos"
   ]
  },
  {
   "cell_type": "code",
   "execution_count": null,
   "metadata": {},
   "outputs": [],
   "source": [
    "class Vehiculo:\n",
    "    def __init__(self, marca, modelo):\n",
    "        self.marca = marca\n",
    "        self.modelo = modelo"
   ]
  },
  {
   "attachments": {},
   "cell_type": "markdown",
   "metadata": {},
   "source": [
    "3. Crea la clase base \"Animal\" con los siguientes atributos:\n",
    "+ nombre\n",
    "+ edad\n",
    "+ especie\n",
    "  \n",
    "  Incluir un constructor que inicialice los atributos"
   ]
  },
  {
   "cell_type": "code",
   "execution_count": null,
   "metadata": {},
   "outputs": [],
   "source": [
    "class Animal:\n",
    "    def __init__(self, nombre, edad, especie):\n",
    "        self.nombre = nombre\n",
    "        self.edad = int(edad)\n",
    "        self.especie = str(especie)"
   ]
  },
  {
   "attachments": {},
   "cell_type": "markdown",
   "metadata": {},
   "source": [
    "4. Crea una clase \"Estudiante\" que herede de \"Persona\" y tenga un atributo adicional \"escuela\". Agrega métodos para imprimir la información del estudiante."
   ]
  },
  {
   "cell_type": "code",
   "execution_count": null,
   "metadata": {},
   "outputs": [],
   "source": [
    "class Estudiante(Persona):\n",
    "    def __init__(self, nombre,edad,escuela):\n",
    "        super().__init__(nombre, edad)\n",
    "        self.escuela = escuela\n",
    "    def informacion_estudiante(self):\n",
    "        print(\"Nombre:\", self.nombre,\"Edad\", self.edad ,\"Escuela:\", self.escuela)"
   ]
  },
  {
   "attachments": {},
   "cell_type": "markdown",
   "metadata": {},
   "source": [
    "5. Crea una clase \"Empleado\" que herede de \"Persona\" y tenga atributos adicionales como \"empresa\" y \"puesto\". Agrega métodos para imprimir la información del empleado."
   ]
  },
  {
   "cell_type": "code",
   "execution_count": null,
   "metadata": {},
   "outputs": [],
   "source": [
    "class Empleado(Persona):\n",
    "    def __init__(self, nombre,edad,empresa,puesto):\n",
    "        super().__init__(nombre, edad)\n",
    "        self.empresa = empresa\n",
    "        self.puesto= puesto\n",
    "    def informacion_empleado(self):\n",
    "        print(\"Nombre: \",self.nombre,\"\\nEdad:\",self.edad,\"\\nEmpresa\",self.empresa,\"\\nPuesto\",self.puesto)"
   ]
  },
  {
   "attachments": {},
   "cell_type": "markdown",
   "metadata": {},
   "source": [
    "6. Crea una clase \"Coche\" que herede de \"Vehículo\" y tenga atributos adicionales como \"color\" y \"velocidad\". Agrega métodos para imprimir la información del coche."
   ]
  },
  {
   "cell_type": "code",
   "execution_count": null,
   "metadata": {},
   "outputs": [],
   "source": [
    "class Coche(Vehiculo):\n",
    "    def __init__(self, marca, modelo,color,velocidad):\n",
    "        super().__init__(marca,modelo)\n",
    "        self.color = color\n",
    "        self.velocidad = velocidad\n",
    "    def informacion_coche(self):\n",
    "        print(\"Marca: \",self.marca,\"\\nModelo:\",self.modelo,\"\\nColor\",self.color,\"\\nVelocidad\",self.velocidad)"
   ]
  },
  {
   "attachments": {},
   "cell_type": "markdown",
   "metadata": {},
   "source": [
    "7. Crea una clase \"Perro\" que herede de \"Animal\" y tenga un atributo adicional \"raza\". Agrega métodos para imprimir la información del perro."
   ]
  },
  {
   "cell_type": "code",
   "execution_count": null,
   "metadata": {},
   "outputs": [],
   "source": [
    "class Perro(Animal):\n",
    "    def __init__(self, nombre,edad,especie,raza):\n",
    "        super().__init__(nombre, edad,especie)\n",
    "        self.raza = raza\n",
    "    def informacion_perro(self):\n",
    "        print(\"El perro tiene una raza de:\", self.raza)"
   ]
  },
  {
   "attachments": {},
   "cell_type": "markdown",
   "metadata": {},
   "source": [
    "8. Crea una clase \"EstudianteUniversitario\" que herede de \"Estudiante\" y tenga atributos adicionales como \"carrera\" y \"semestre\". Agrega métodos para imprimir la información del estudiante universitario."
   ]
  },
  {
   "cell_type": "code",
   "execution_count": null,
   "metadata": {},
   "outputs": [],
   "source": [
    "class EstudianteUniversitario(Estudiante):\n",
    "    def __init__(self, nombre, edad, escuela,carrera,semestre):\n",
    "        super().__init__(nombre,edad,escuela)\n",
    "        self.carrera = carrera\n",
    "        self.semestre= semestre\n",
    "    def obtener_informacion(self):\n",
    "        print(\"Nombre: \",self.nombre,\"\\nEdad:\",self.edad,\"\\nUniversidad:\",self.escuela,\"\\nCarrera\",self.carrera,\"\\nSemestre:\",self.semestre)\n",
    "\n",
    "estudiante1 =EstudianteUniversitario(\"Gonzalo\",44,\"Universidad Blas Pascal\",\"Licenciatura en Informática\",6)\n",
    "estudiante1.obtener_informacion()"
   ]
  },
  {
   "attachments": {},
   "cell_type": "markdown",
   "metadata": {},
   "source": [
    "9. Crea una clase \"Camioneta\" que herede de \"Vehículo\" y tenga un atributo adicional \"capacidad_carga\". Agrega métodos para imprimir la información de la camioneta."
   ]
  },
  {
   "cell_type": "code",
   "execution_count": null,
   "metadata": {},
   "outputs": [],
   "source": [
    "class Camioneta(Vehiculo):\n",
    "    def __init__(self,marca, modelo,capacidad_carga):\n",
    "        super().__init__(marca,modelo)\n",
    "        self.capacidad_carga = capacidad_carga\n",
    "    def informacion_camioneta(self):\n",
    "        print(\"Marca: \",self.marca,\" Modelo:\",self.modelo,\"\\nCapacidad de Carga:\",self.capacidad_carga)\n",
    "\n",
    "toro =Camioneta(\"Fiat\",\"Toro\",\"1400 KG\")\n",
    "toro.informacion_camioneta()"
   ]
  },
  {
   "attachments": {},
   "cell_type": "markdown",
   "metadata": {},
   "source": [
    "10. Crea una clase \"Profesor\" que herede de \"Empleado\" y tenga atributos adicionales como \"materia\" y \"experiencia\". Agrega métodos para imprimir la información del profesor."
   ]
  },
  {
   "cell_type": "code",
   "execution_count": null,
   "metadata": {},
   "outputs": [],
   "source": [
    "class Profesor(Empleado):\n",
    "    def __init__(self, nombre,edad,empresa,puesto,materia,experiencia):\n",
    "        Empleado.__init__(self,nombre,edad,empresa,puesto)\n",
    "        self.materia =materia\n",
    "        self.experiencia= experiencia\n",
    "    def informacion_profesor(self):\n",
    "        print(\"Nombre: \",self.nombre,\" Edad:\",self.edad,\"\\nInstitucion:\",self.empresa,\"\\nCargo:\",self.puesto,\"\\nMateria:\",self.materia,\"\\nExperiencia\",self.experiencia)\n",
    "\n",
    "profesor =Profesor(\"Gonzalo\",44,\"Politecnico Malvinas Argentinas\",\"Docente\",\"Programación II\", \"20 años\")\n",
    "profesor.informacion_profesor()"
   ]
  },
  {
   "attachments": {},
   "cell_type": "markdown",
   "metadata": {},
   "source": [
    "11. Crea una clase \"Motocicleta\" que herede de \"Vehículo\" y tenga atributos adicionales como \"cilindrada\" y \"marca\". Agrega métodos para imprimir la información de la motocicleta."
   ]
  },
  {
   "cell_type": "code",
   "execution_count": null,
   "metadata": {},
   "outputs": [],
   "source": [
    "class Motocicleta(Vehiculo):\n",
    "    def __init__(self, marca, modelo,cilindrada):\n",
    "        super().__init__(marca,modelo)\n",
    "        self.cilindrada = cilindrada\n",
    "    def informacion_motocicleta(self):\n",
    "        print(\"Marca: \",self.marca,\" \\nModelo:\",self.modelo,\"\\nCilindrada\",self.cilindrada)\n",
    "\n",
    "moto = Motocicleta(\"Honda\",\"XR\",250)\n",
    "moto.informacion_motocicleta()"
   ]
  },
  {
   "attachments": {},
   "cell_type": "markdown",
   "metadata": {},
   "source": [
    "12. Crea una clase \"Ave\" que herede de \"Animal\" y tenga atributos adicionales como \"especie\" y \"habitat\". Agrega métodos para imprimir la información del ave."
   ]
  },
  {
   "cell_type": "code",
   "execution_count": null,
   "metadata": {},
   "outputs": [],
   "source": [
    "class Ave(Animal):\n",
    "    def __init__(self, nombre,edad,especie,habitat) :\n",
    "        super().__init__(nombre, edad, especie)\n",
    "        self.habitat = habitat\n",
    "    def informacion_ave(self):\n",
    "        print(\"Nombre: \", self.nombre,\"\\nEdad:\",self.edad,\"\\nEspecie:\",self.especie,\"\\nHabitat\",self.habitat)\n",
    "\n",
    " trepador_azul =Ave(\"Trepador Azul\",5,\"Ave Forestal\",\"Bosques\")\n",
    "trepador_azul.informacion_ave()"
   ]
  },
  {
   "attachments": {},
   "cell_type": "markdown",
   "metadata": {},
   "source": [
    "13.Crea una clase \"Cliente\" que herede de \"Persona\" y tenga atributos adicionales como \"direccion\" y \"telefono\". Agrega métodos para imprimir la información del cliente."
   ]
  },
  {
   "cell_type": "code",
   "execution_count": null,
   "metadata": {},
   "outputs": [],
   "source": [
    "class Cliente(Persona):\n",
    "    def __init__(self, nombre,edad,direccion,telefono):\n",
    "        super().__init__(nombre, edad)\n",
    "        self.direccion = direccion\n",
    "        self.telefono= telefono\n",
    "    def informacion_cliente(self):\n",
    "        print(\"Cliente: \",self.nombre,\" Edad:\",self.edad,\"\\nDireccion\",self.direccion,\"\\nTelefono:\",self.telefono)\n",
    "\n",
    "cliente =Cliente(\"Pedro\",50,\"Avenidad siempre viva 123\",\"444-321\")\n",
    "cliente.informacion_cliente()"
   ]
  },
  {
   "attachments": {},
   "cell_type": "markdown",
   "metadata": {},
   "source": [
    "14. Crea una clase \"Bicicleta\" que herede de \"Vehículo\" y tenga atributos adicionales como \"tipo\""
   ]
  },
  {
   "cell_type": "code",
   "execution_count": null,
   "metadata": {},
   "outputs": [],
   "source": [
    "class Bicicleta(Vehiculo):\n",
    "    def __init__(self, marca, modelo,tipo):\n",
    "        super().__init__(marca,modelo)\n",
    "        self.tipo = tipo\n",
    "    def informacion_bicicleta(self):\n",
    "        print(\"Marca: \", self.marca,\"\\nModelo:\", self.modelo,\"\\nTipo:\",self.tipo)\n",
    "    \n",
    "venzo_bmx =Bicicleta(\"Venzo\",\"Cube\",\"BMX\")\n",
    "venzo_bmx.informacion_bicicleta()"
   ]
  },
  {
   "attachments": {},
   "cell_type": "markdown",
   "metadata": {},
   "source": [
    "1. Escribir un programa que almacene la cadena de caracteres\n",
    "contraseña en una variable, pregunte al usuario por la contraseña e\n",
    "imprima por pantalla si la contraseña introducida por el usuario\n",
    "coincide con la guardada en la variable sin tener en cuenta\n",
    "mayúsculas y minúsculas."
   ]
  },
  {
   "cell_type": "code",
   "execution_count": null,
   "metadata": {},
   "outputs": [],
   "source": [
    "clave=\"clave123\"\n",
    "clave_ingresada = input(\"ingrese su clave\")\n",
    "clave=clave.lower()\n",
    "clave_ingresada=clave_ingresada.lower()\n",
    "if clave==clave_ingresada:\n",
    "    print(\"Bienvenido al sistema\")\n",
    "else:\n",
    "    print(\"contraseña incorrecta\")"
   ]
  },
  {
   "attachments": {},
   "cell_type": "markdown",
   "metadata": {},
   "source": [
    "2. Los tramos impositivos\n",
    "para la declaración de la renta en un determinado país son los\n",
    "siguientes:\n",
    "Escribir un programa que pregunte al usuario su renta anual y\n",
    "muestre por pantalla lo que tiene que pagar."
   ]
  },
  {
   "cell_type": "code",
   "execution_count": null,
   "metadata": {},
   "outputs": [],
   "source": [
    "renta_anual = float(input(\"ingrese su renta anual\"))\n",
    "impuesto = 0\n",
    "if renta_anual < 1000 :\n",
    "    impuesto = (renta_anual*5)/100\n",
    "elif renta_anual >=10000 and renta_anual < 20000:\n",
    "    impuesto =(renta_anual*15)/100\n",
    "elif renta_anual >= 20000 and renta_anual < 35000:\n",
    "    impuesto=(renta_anual*20)/100\n",
    "elif renta_anual >= 35000 and renta_anual < 60000:\n",
    "    impuesto=(renta_anual*30)/100\n",
    "else:\n",
    "    impuesto=(renta_anual*45)/100\n",
    "print(\"El valor de la tasa es \",impuesto)"
   ]
  }
 ],
 "metadata": {
  "kernelspec": {
   "display_name": "Python 3",
   "language": "python",
   "name": "python3"
  },
  "language_info": {
   "codemirror_mode": {
    "name": "ipython",
    "version": 3
   },
   "file_extension": ".py",
   "mimetype": "text/x-python",
   "name": "python",
   "nbconvert_exporter": "python",
   "pygments_lexer": "ipython3",
   "version": "3.11.3"
  },
  "orig_nbformat": 4
 },
 "nbformat": 4,
 "nbformat_minor": 2
}
