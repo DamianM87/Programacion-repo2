{
 "cells": [
  {
   "attachments": {},
   "cell_type": "markdown",
   "metadata": {},
   "source": [
    "1) Crear una lista que contenga nombres de ciudades del mundo que contenga más de 5 elementos e imprimir por pantalla"
   ]
  },
  {
   "cell_type": "code",
   "execution_count": 2,
   "metadata": {},
   "outputs": [
    {
     "name": "stdout",
     "output_type": "stream",
     "text": [
      "['Cancun', 'Paris', 'Florida', 'Madrid', 'Sao Paulo']\n"
     ]
    }
   ],
   "source": [
    "ListaCiudades =[\"Cancun\",\"Paris\",\"Florida\",\"Madrid\",\"Sao Paulo\"]\n",
    "print(ListaCiudades)"
   ]
  },
  {
   "attachments": {},
   "cell_type": "markdown",
   "metadata": {},
   "source": [
    "2) Imprimir por pantalla el segundo elemento de la lista"
   ]
  },
  {
   "cell_type": "code",
   "execution_count": 37,
   "metadata": {},
   "outputs": [
    {
     "name": "stdout",
     "output_type": "stream",
     "text": [
      "Paris\n"
     ]
    }
   ],
   "source": [
    "print(ListaCiudades[1])"
   ]
  },
  {
   "attachments": {},
   "cell_type": "markdown",
   "metadata": {},
   "source": [
    "3) Imprimir por pantalla del segundo al cuarto elemento"
   ]
  },
  {
   "cell_type": "code",
   "execution_count": 38,
   "metadata": {},
   "outputs": [
    {
     "name": "stdout",
     "output_type": "stream",
     "text": [
      "['Paris', 'Florida', 'Madrid']\n"
     ]
    }
   ],
   "source": [
    "print(ListaCiudades[1:4])"
   ]
  },
  {
   "attachments": {},
   "cell_type": "markdown",
   "metadata": {},
   "source": [
    "4) Agregar una ciudad más a la lista que ya exista y otra que no ¿Arroja algún tipo de error?"
   ]
  },
  {
   "cell_type": "code",
   "execution_count": 39,
   "metadata": {},
   "outputs": [
    {
     "name": "stdout",
     "output_type": "stream",
     "text": [
      "['Cancun', 'Paris', 'Florida', 'Madrid', 'Sao Paulo', 'Paris', 'Cordoba']\n"
     ]
    }
   ],
   "source": [
    "ListaCiudades =[\"Cancun\",\"Paris\",\"Florida\",\"Madrid\",\"Sao Paulo\"]\n",
    "ListaCiudades.append(\"Paris\")\n",
    "ListaCiudades.append(\"Cordoba\")\n",
    "print(ListaCiudades)\n",
    "#No arroja ningun error."
   ]
  },
  {
   "attachments": {},
   "cell_type": "markdown",
   "metadata": {},
   "source": [
    "5) Agregar otra ciudad, pero en la cuarta posición"
   ]
  },
  {
   "cell_type": "code",
   "execution_count": 41,
   "metadata": {},
   "outputs": [
    {
     "name": "stdout",
     "output_type": "stream",
     "text": [
      "['Cancun', 'Paris', 'Florida', 'Londres', 'Madrid', 'Sao Paulo', 'Paris', 'Cordoba']\n"
     ]
    }
   ],
   "source": [
    "ListaCiudades\n",
    "ListaCiudades.insert(3,\"Londres\")\n",
    "print(ListaCiudades)"
   ]
  },
  {
   "attachments": {},
   "cell_type": "markdown",
   "metadata": {},
   "source": [
    "6) Concatenar otra lista a la ya creada"
   ]
  },
  {
   "cell_type": "code",
   "execution_count": 42,
   "metadata": {},
   "outputs": [
    {
     "name": "stdout",
     "output_type": "stream",
     "text": [
      "['Cancun', 'Paris', 'Florida', 'Madrid', 'Sao Paulo', 'New York', 'Tokyo']\n"
     ]
    }
   ],
   "source": [
    "ListaCiudades=[\"Cancun\",\"Paris\",\"Florida\",\"Madrid\",\"Sao Paulo\"]\n",
    "ListaCiudades2=[\"New York\",\"Tokyo\"]\n",
    "ListaCiudades.extend(ListaCiudades2)\n",
    "print(ListaCiudades)"
   ]
  },
  {
   "attachments": {},
   "cell_type": "markdown",
   "metadata": {},
   "source": [
    "7) Crear una tupla que contenga los números enteros del 1 al 20"
   ]
  },
  {
   "cell_type": "code",
   "execution_count": 50,
   "metadata": {},
   "outputs": [],
   "source": [
    "mi_tupla=(1,2,3,4,5,6,7,8,9,10,11,12,13,14,15,16,17,18,19,20)"
   ]
  },
  {
   "attachments": {},
   "cell_type": "markdown",
   "metadata": {},
   "source": [
    "8) Imprimir desde el índice 10 al 15 de la tupla"
   ]
  },
  {
   "cell_type": "code",
   "execution_count": 51,
   "metadata": {},
   "outputs": [
    {
     "name": "stdout",
     "output_type": "stream",
     "text": [
      "(10, 11, 12, 13, 14, 15)\n"
     ]
    }
   ],
   "source": [
    "print(mi_tupla[9:15])"
   ]
  },
  {
   "attachments": {},
   "cell_type": "markdown",
   "metadata": {},
   "source": [
    "9) Desempaquetar solo los primeros 3 elementos de la tupla en 3 variables"
   ]
  },
  {
   "cell_type": "code",
   "execution_count": 56,
   "metadata": {},
   "outputs": [
    {
     "name": "stdout",
     "output_type": "stream",
     "text": [
      "1\n",
      "2\n",
      "3\n"
     ]
    }
   ],
   "source": [
    "mi_tupla=(1,2,3,4,5,6,7,8,9,10,11,12,13,14,15,16,17,18,19,20)\n",
    "num1,num2,num3,*num4= mi_tupla\n",
    "print(num1)\n",
    "print(num2)\n",
    "print(num3)"
   ]
  },
  {
   "attachments": {},
   "cell_type": "markdown",
   "metadata": {},
   "source": [
    "10) Crear un diccionario utilizando la lista crada en el punto 1, asignandole la clave \"ciudad\". Agregar tambien otras claves, como puede ser \"Pais\" y \"Continente\"."
   ]
  },
  {
   "cell_type": "code",
   "execution_count": 143,
   "metadata": {},
   "outputs": [],
   "source": [
    "Mundo = {\"Ciudad\":[\"Cancun\",\"Paris\",\"Florida\",\"Madrid\",\"Sao Paulo\"],\n",
    "         \"Pais\":[\"Mexico\",\"Francia\",\"EEUU\",\"España\",\"Brasil\"],\n",
    "         \"Continente\":[\"America Central\",\"Europa\",\"America del norte\",\"Europa\",\"America del sur\"]}"
   ]
  },
  {
   "attachments": {},
   "cell_type": "markdown",
   "metadata": {},
   "source": [
    "11) Imprimir las claves del diccionario"
   ]
  },
  {
   "cell_type": "code",
   "execution_count": 144,
   "metadata": {},
   "outputs": [
    {
     "data": {
      "text/plain": [
       "dict_keys(['Ciudad', 'Pais', 'Continente'])"
      ]
     },
     "execution_count": 144,
     "metadata": {},
     "output_type": "execute_result"
    }
   ],
   "source": [
    "Mundo.keys()"
   ]
  },
  {
   "attachments": {},
   "cell_type": "markdown",
   "metadata": {},
   "source": [
    "12) Imprimir las ciudades a través de su clave"
   ]
  },
  {
   "cell_type": "code",
   "execution_count": 145,
   "metadata": {},
   "outputs": [
    {
     "data": {
      "text/plain": [
       "['Cancun', 'Paris', 'Florida', 'Madrid', 'Sao Paulo']"
      ]
     },
     "execution_count": 145,
     "metadata": {},
     "output_type": "execute_result"
    }
   ],
   "source": [
    "Mundo.get(\"Ciudad\")"
   ]
  },
  {
   "attachments": {},
   "cell_type": "markdown",
   "metadata": {},
   "source": [
    "13) Crear una variable que contenga un elemento del conjunto de números enteros y luego imprimir por pantalla si es mayor o menor a cero"
   ]
  },
  {
   "cell_type": "code",
   "execution_count": 122,
   "metadata": {},
   "outputs": [
    {
     "name": "stdout",
     "output_type": "stream",
     "text": [
      "Mayor\n"
     ]
    }
   ],
   "source": [
    "a = 3\n",
    "num = 'Menor' if a < 0 else 'Mayor'\n",
    "print(num)"
   ]
  },
  {
   "attachments": {},
   "cell_type": "markdown",
   "metadata": {},
   "source": [
    "14) Crear dos variables y un condicional que informe si son del mismo tipo de dato"
   ]
  },
  {
   "cell_type": "code",
   "execution_count": 16,
   "metadata": {},
   "outputs": [
    {
     "name": "stdout",
     "output_type": "stream",
     "text": [
      "No son el mismo tipo de datos\n"
     ]
    }
   ],
   "source": [
    "variable1 = 122\n",
    "variable2 = \"hola\"\n",
    "if  type(variable1)==type(variable2):\n",
    "    print(\"Son del mismo tipo de datos \")\n",
    "else:\n",
    "    print(\"No son el mismo tipo de datos\")"
   ]
  },
  {
   "attachments": {},
   "cell_type": "markdown",
   "metadata": {},
   "source": [
    "15) Para los valores enteros del 1 al 20, imprimir por pantalla si es par o impar"
   ]
  },
  {
   "cell_type": "code",
   "execution_count": 87,
   "metadata": {},
   "outputs": [
    {
     "name": "stdout",
     "output_type": "stream",
     "text": [
      "El numero 1 es impar\n",
      "El numero 2 es par\n",
      "El numero 3 es impar\n",
      "El numero 4 es par\n",
      "El numero 5 es impar\n",
      "El numero 6 es par\n",
      "El numero 7 es impar\n",
      "El numero 8 es par\n",
      "El numero 9 es impar\n",
      "El numero 10 es par\n",
      "El numero 11 es impar\n",
      "El numero 12 es par\n",
      "El numero 13 es impar\n",
      "El numero 14 es par\n",
      "El numero 15 es impar\n",
      "El numero 16 es par\n",
      "El numero 17 es impar\n",
      "El numero 18 es par\n",
      "El numero 19 es impar\n",
      "El numero 20 es par\n"
     ]
    }
   ],
   "source": [
    "for x in range(1,21):\n",
    "    if x % 2 == 0:\n",
    "        print(f\"El numero {x} es par\")\n",
    "    else:\n",
    "        print(f\"El numero {x} es impar\")"
   ]
  },
  {
   "attachments": {},
   "cell_type": "markdown",
   "metadata": {},
   "source": [
    "16) En un ciclo for mostrar para los valores entre 0 y 5 el resultado de elevarlo a la potencia igual a 3"
   ]
  },
  {
   "cell_type": "code",
   "execution_count": 104,
   "metadata": {},
   "outputs": [
    {
     "name": "stdout",
     "output_type": "stream",
     "text": [
      "Para los valores entre 0 y 5 el resultado de elevarlo a potencia 3 es 0 = 0\n",
      "Para los valores entre 0 y 5 el resultado de elevarlo a potencia 3 es 1 = 1\n",
      "Para los valores entre 0 y 5 el resultado de elevarlo a potencia 3 es 2 = 8\n",
      "Para los valores entre 0 y 5 el resultado de elevarlo a potencia 3 es 3 = 27\n",
      "Para los valores entre 0 y 5 el resultado de elevarlo a potencia 3 es 4 = 64\n",
      "Para los valores entre 0 y 5 el resultado de elevarlo a potencia 3 es 5 = 125\n"
     ]
    }
   ],
   "source": [
    "for z in range(0,6):\n",
    "  print(f\"Para los valores entre 0 y 5 el resultado de elevarlo a potencia 3 es {z} = {z **3}\")\n",
    "   "
   ]
  },
  {
   "attachments": {},
   "cell_type": "markdown",
   "metadata": {},
   "source": [
    "17) Crear una variable que contenga un número entero y realizar un ciclo for la misma cantidad de ciclos"
   ]
  },
  {
   "cell_type": "code",
   "execution_count": 142,
   "metadata": {},
   "outputs": [
    {
     "name": "stdout",
     "output_type": "stream",
     "text": [
      "cantidad de ciclos 1\n",
      "cantidad de ciclos 2\n",
      "cantidad de ciclos 3\n",
      "cantidad de ciclos 4\n",
      "cantidad de ciclos 5\n",
      "cantidad de ciclos 6\n",
      "cantidad de ciclos 7\n",
      "cantidad de ciclos 8\n",
      "cantidad de ciclos 9\n"
     ]
    }
   ],
   "source": [
    "var = 9\n",
    "for i in range (var):\n",
    "    print(\"cantidad de ciclos\",i+1)\n"
   ]
  },
  {
   "attachments": {},
   "cell_type": "markdown",
   "metadata": {},
   "source": [
    "18) Utilizar un ciclo while para realizar el factorial de un número guardado en una variable, sólo si la variable contiene un número entero mayor a 0"
   ]
  },
  {
   "cell_type": "code",
   "execution_count": 95,
   "metadata": {},
   "outputs": [
    {
     "name": "stdout",
     "output_type": "stream",
     "text": [
      "Para el numero 5 el factorial es 120\n"
     ]
    }
   ],
   "source": [
    "var = 5\n",
    "if var >=0 :\n",
    "         x=1\n",
    "         factor=1\n",
    "         while x <= var:\n",
    "            factor = factor * x\n",
    "            x +=1\n",
    "         print(f\"Para el numero 5 el factorial es {factor}\")\n",
    "    "
   ]
  },
  {
   "attachments": {},
   "cell_type": "markdown",
   "metadata": {},
   "source": [
    "19) Aplicando continue, armar un ciclo while que solo imprima los valores divisibles por 12, dentro del rango de números de 100 a 300"
   ]
  },
  {
   "cell_type": "code",
   "execution_count": 128,
   "metadata": {},
   "outputs": [
    {
     "name": "stdout",
     "output_type": "stream",
     "text": [
      "108\n",
      "120\n",
      "132\n",
      "144\n",
      "156\n",
      "168\n",
      "180\n",
      "192\n",
      "204\n",
      "216\n",
      "228\n",
      "240\n",
      "252\n",
      "264\n",
      "276\n",
      "288\n",
      "300\n"
     ]
    }
   ],
   "source": [
    "a = 100\n",
    "while a <= 300:\n",
    "    if a % 12 != 0:\n",
    "        a += 1\n",
    "        continue\n",
    "    print(a)\n",
    "    a += 1"
   ]
  },
  {
   "attachments": {},
   "cell_type": "markdown",
   "metadata": {},
   "source": [
    "20) Crear un ciclo while que encuentre dentro del rango de 100 a 300 el primer número divisible por 3 y además múltiplo de 6"
   ]
  },
  {
   "cell_type": "code",
   "execution_count": 139,
   "metadata": {},
   "outputs": [
    {
     "name": "stdout",
     "output_type": "stream",
     "text": [
      "102\n"
     ]
    }
   ],
   "source": [
    "b = 100\n",
    "while b <= 300 :\n",
    "    if b % 3 != 0 or b % 6 != 0:\n",
    "        b += 1\n",
    "        continue\n",
    "    break\n",
    "print(b)\n",
    "    "
   ]
  },
  {
   "attachments": {},
   "cell_type": "markdown",
   "metadata": {},
   "source": [
    "21) A partir de la variable cadena ya dada, mostrar en qué posiciones aparece la letra \"n\" **cadena** = 'Hola Mundo. Esto es una practica del lenguaje de programación Python'"
   ]
  },
  {
   "cell_type": "code",
   "execution_count": 118,
   "metadata": {},
   "outputs": [
    {
     "name": "stdout",
     "output_type": "stream",
     "text": [
      "La letra n aparece en  [7]\n",
      "La letra n aparece en  [7, 22]\n",
      "La letra n aparece en  [7, 22, 40]\n",
      "La letra n aparece en  [7, 22, 40, 61]\n",
      "La letra n aparece en  [7, 22, 40, 61, 68]\n"
     ]
    }
   ],
   "source": [
    "cadena = \"Hola Mundo , Esto es una practica del lenguaje de programacion Python\"\n",
    "letra =\"n\"\n",
    "posicion =[]\n",
    "for i in range(len(cadena)):\n",
    "        if cadena[i]== letra :\n",
    "            posicion.append(i)\n",
    "            print(f\"La letra {letra} aparece en  {posicion}\")"
   ]
  },
  {
   "attachments": {},
   "cell_type": "markdown",
   "metadata": {},
   "source": [
    "22) Convertir en una lista la variable \"cadena\" del punto anterior y luego recorrerla con un iterador"
   ]
  },
  {
   "cell_type": "code",
   "execution_count": 123,
   "metadata": {},
   "outputs": [
    {
     "name": "stdout",
     "output_type": "stream",
     "text": [
      "0 H\n",
      "1 o\n",
      "2 l\n",
      "3 a\n",
      "4  \n",
      "5 M\n",
      "6 u\n",
      "7 n\n",
      "8 d\n",
      "9 o\n",
      "10  \n",
      "11 ,\n",
      "12  \n",
      "13 E\n",
      "14 s\n",
      "15 t\n",
      "16 o\n",
      "17  \n",
      "18 e\n",
      "19 s\n",
      "20  \n",
      "21 u\n",
      "22 n\n",
      "23 a\n",
      "24  \n",
      "25 p\n",
      "26 r\n",
      "27 a\n",
      "28 c\n",
      "29 t\n",
      "30 i\n",
      "31 c\n",
      "32 a\n",
      "33  \n",
      "34 d\n",
      "35 e\n",
      "36 l\n",
      "37  \n",
      "38 l\n",
      "39 e\n",
      "40 n\n",
      "41 g\n",
      "42 u\n",
      "43 a\n",
      "44 j\n",
      "45 e\n",
      "46  \n",
      "47 d\n",
      "48 e\n",
      "49  \n",
      "50 p\n",
      "51 r\n",
      "52 o\n",
      "53 g\n",
      "54 r\n",
      "55 a\n",
      "56 m\n",
      "57 a\n",
      "58 c\n",
      "59 i\n",
      "60 o\n",
      "61 n\n",
      "62  \n",
      "63 P\n",
      "64 y\n",
      "65 t\n",
      "66 h\n",
      "67 o\n",
      "68 n\n"
     ]
    }
   ],
   "source": [
    "cadena = \"Hola Mundo , Esto es una practica del lenguaje de programacion Python\"\n",
    "mi_lista=list(cadena)\n",
    "for indice, letra in enumerate(mi_lista):\n",
    "    print(indice ,letra)\n"
   ]
  }
 ],
 "metadata": {
  "kernelspec": {
   "display_name": "Python 3",
   "language": "python",
   "name": "python3"
  },
  "language_info": {
   "codemirror_mode": {
    "name": "ipython",
    "version": 3
   },
   "file_extension": ".py",
   "mimetype": "text/x-python",
   "name": "python",
   "nbconvert_exporter": "python",
   "pygments_lexer": "ipython3",
   "version": "3.11.3"
  },
  "orig_nbformat": 4
 },
 "nbformat": 4,
 "nbformat_minor": 2
}
